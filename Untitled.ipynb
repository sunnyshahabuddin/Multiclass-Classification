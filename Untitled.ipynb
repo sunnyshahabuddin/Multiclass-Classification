{
 "cells": [
  {
   "cell_type": "code",
   "execution_count": 150,
   "id": "32fd77cc-ea45-4cb5-8af0-2333789deb6a",
   "metadata": {},
   "outputs": [],
   "source": [
    "import numpy as np\n",
    "import keras\n",
    "from sklearn import datasets\n",
    "import matplotlib.pyplot as plt\n",
    "from keras.models import Sequential #this allows us to define our own neural model of how many specific layers we need for the classification\n",
    "from keras.layers import Dense #this allows us to connect the preceding layer with the next layer.\n",
    "from tensorflow.keras.optimizers import Adam # this is the optimizer we use.\n",
    "from keras.utils.np_utils import to_categorical #to make all the three classes of data to be represented as a function of one varible\n",
    "#1 0 0 \n",
    "#0 1 0\n",
    "#0 0 1"
   ]
  },
  {
   "cell_type": "code",
   "execution_count": 151,
   "id": "cedb4978-82f9-4d97-87b4-3466f6da7cb8",
   "metadata": {},
   "outputs": [],
   "source": [
    "n_pts = 500\n",
    "centers = [[-1, 1], [-1, -1], [1, -1]]\n",
    "X, y = datasets.make_blobs(n_samples=n_pts, random_state = 123, centers=centers, cluster_std=0.4)"
   ]
  },
  {
   "cell_type": "code",
   "execution_count": 152,
   "id": "9edec725-57ec-4420-8405-f2bf2c7dd468",
   "metadata": {},
   "outputs": [
    {
     "data": {
      "text/plain": [
       "<matplotlib.collections.PathCollection at 0x234d6e83a00>"
      ]
     },
     "execution_count": 152,
     "metadata": {},
     "output_type": "execute_result"
    },
    {
     "data": {
      "image/png": "[encoded data removed]",
      "text/plain": [
       "<Figure size 432x288 with 1 Axes>"
      ]
     },
     "metadata": {
      "needs_background": "light"
     },
     "output_type": "display_data"
    }
   ],
   "source": [
    "plt.scatter(X[y==0, 0], X[y==0, 1])\n",
    "plt.scatter(X[y==1, 0], X[y==1, 1])\n",
    "plt.scatter(X[y==2, 0], X[y==2, 1])"
   ]
  },
  {
   "cell_type": "code",
   "execution_count": 153,
   "id": "a8b53cf5-44bd-40aa-b741-bdb3058a8933",
   "metadata": {},
   "outputs": [
    {
     "name": "stdout",
     "output_type": "stream",
     "text": [
      "[2 2 2 0 1 0 0 2 2 2 1 1 0 0 1 2 2 2 2 0 2 0 1 2 1 2 0 0 2 1 1 0 0 2 1 0 2\n",
      " 0 2 0 0 2 1 0 2 0 1 2 0 2 0 1 1 0 1 2 2 0 1 2 0 2 0 2 1 0 1 1 1 1 2 1 1 1\n",
      " 1 1 2 1 1 2 0 1 2 2 1 0 2 1 1 2 0 0 2 1 2 2 0 1 2 0 2 1 1 2 2 0 0 1 2 1 1\n",
      " 2 0 0 1 0 2 2 2 2 1 2 1 2 0 2 2 0 1 0 0 0 0 2 0 1 0 2 2 0 2 2 2 2 1 2 0 0\n",
      " 0 2 1 0 2 0 0 1 1 0 2 0 0 1 1 2 2 0 2 1 2 2 2 1 1 1 2 0 0 1 0 1 2 2 1 1 2\n",
      " 1 1 0 0 2 2 1 0 0 0 0 2 2 0 2 1 1 2 0 0 2 2 0 1 0 2 0 2 2 0 0 2 1 2 0 2 0\n",
      " 1 1 2 0 0 0 2 1 2 2 2 0 0 1 0 2 0 2 0 2 1 1 1 2 2 1 1 1 0 1 2 1 0 1 2 2 0\n",
      " 0 0 1 1 1 2 1 1 2 1 1 2 0 0 0 2 0 2 0 0 0 2 1 1 0 2 1 0 0 1 1 1 1 2 1 1 0\n",
      " 0 0 2 1 1 1 0 0 0 0 0 0 0 1 2 1 2 1 0 2 0 0 1 2 0 1 2 2 2 2 2 0 1 2 0 2 1\n",
      " 0 0 1 2 0 2 0 1 1 0 2 1 0 1 1 1 0 2 0 2 0 1 1 0 1 1 1 2 2 0 2 0 2 2 1 1 0\n",
      " 2 2 2 1 1 1 2 2 0 1 2 1 2 0 1 2 2 2 0 1 1 1 2 0 2 0 0 2 1 1 1 2 0 1 0 0 1\n",
      " 1 2 0 0 1 2 1 1 0 2 0 1 0 2 0 0 0 1 1 1 2 0 1 1 0 2 1 2 1 1 1 1 0 0 0 0 0\n",
      " 2 2 1 1 0 1 0 2 2 2 2 0 0 1 1 0 0 1 1 1 2 2 1 1 1 1 0 0 2 0 1 0 1 0 1 1 2\n",
      " 2 0 2 2 1 0 1 2 0 2 0 2 1 0 2 0 1 1 0]\n",
      "[[0. 0. 1.]\n",
      " [0. 0. 1.]\n",
      " [0. 0. 1.]\n",
      " ...\n",
      " [0. 1. 0.]\n",
      " [0. 1. 0.]\n",
      " [1. 0. 0.]]\n"
     ]
    }
   ],
   "source": [
    "print(y)\n",
    "y_cat = to_categorical(y, 3)# this here gives the value of one to the class which is present and zero to the other two\n",
    "print(y_cat)"
   ]
  },
  {
   "cell_type": "code",
   "execution_count": 154,
   "id": "2e9afa3a-1a2e-43c8-8f1d-dbf38eea94a3",
   "metadata": {},
   "outputs": [],
   "source": [
    "model = Sequential()\n",
    "model.add(Dense(units = 3, input_shape=(2,), activation='softmax')) # 3 = number of output nodes 2 = number of input node excluding the one\n",
    "model.compile(Adam(learning_rate = 0.1), loss = 'categorical_crossentropy', metrics=['accuracy']) #calculating accuracy"
   ]
  },
  {
   "cell_type": "code",
   "execution_count": 155,
   "id": "924864a9-283e-4059-b26d-774beee27aa7",
   "metadata": {},
   "outputs": [
    {
     "name": "stdout",
     "output_type": "stream",
     "text": [
      "Epoch 1/100\n",
      "25/25 [==============================] - 0s 952us/step - loss: 0.3399 - accuracy: 0.9100\n",
      "Epoch 2/100\n",
      "25/25 [==============================] - 0s 900us/step - loss: 0.0813 - accuracy: 0.9900\n",
      "Epoch 3/100\n",
      "25/25 [==============================] - 0s 952us/step - loss: 0.0591 - accuracy: 0.9880\n",
      "Epoch 4/100\n",
      "25/25 [==============================] - 0s 865us/step - loss: 0.0510 - accuracy: 0.9880\n",
      "Epoch 5/100\n",
      "25/25 [==============================] - 0s 823us/step - loss: 0.0460 - accuracy: 0.9900\n",
      "Epoch 6/100\n",
      "25/25 [==============================] - 0s 789us/step - loss: 0.0423 - accuracy: 0.9880\n",
      "Epoch 7/100\n",
      "25/25 [==============================] - 0s 740us/step - loss: 0.0398 - accuracy: 0.9880\n",
      "Epoch 8/100\n",
      "25/25 [==============================] - 0s 752us/step - loss: 0.0393 - accuracy: 0.9880\n",
      "Epoch 9/100\n",
      "25/25 [==============================] - 0s 753us/step - loss: 0.0361 - accuracy: 0.9900\n",
      "Epoch 10/100\n",
      "25/25 [==============================] - 0s 830us/step - loss: 0.0370 - accuracy: 0.9860\n",
      "Epoch 11/100\n",
      "25/25 [==============================] - 0s 761us/step - loss: 0.0340 - accuracy: 0.9900\n",
      "Epoch 12/100\n",
      "25/25 [==============================] - 0s 737us/step - loss: 0.0337 - accuracy: 0.9920\n",
      "Epoch 13/100\n",
      "25/25 [==============================] - 0s 876us/step - loss: 0.0341 - accuracy: 0.9860\n",
      "Epoch 14/100\n",
      "25/25 [==============================] - 0s 933us/step - loss: 0.0315 - accuracy: 0.9900\n",
      "Epoch 15/100\n",
      "25/25 [==============================] - 0s 786us/step - loss: 0.0314 - accuracy: 0.9900\n",
      "Epoch 16/100\n",
      "25/25 [==============================] - 0s 825us/step - loss: 0.0306 - accuracy: 0.9880\n",
      "Epoch 17/100\n",
      "25/25 [==============================] - 0s 795us/step - loss: 0.0307 - accuracy: 0.9900\n",
      "Epoch 18/100\n",
      "25/25 [==============================] - 0s 782us/step - loss: 0.0307 - accuracy: 0.9880\n",
      "Epoch 19/100\n",
      "25/25 [==============================] - 0s 754us/step - loss: 0.0304 - accuracy: 0.9900\n",
      "Epoch 20/100\n",
      "25/25 [==============================] - 0s 769us/step - loss: 0.0285 - accuracy: 0.9900\n",
      "Epoch 21/100\n",
      "25/25 [==============================] - 0s 767us/step - loss: 0.0297 - accuracy: 0.9900\n",
      "Epoch 22/100\n",
      "25/25 [==============================] - 0s 832us/step - loss: 0.0298 - accuracy: 0.9900\n",
      "Epoch 23/100\n",
      "25/25 [==============================] - 0s 767us/step - loss: 0.0284 - accuracy: 0.9900\n",
      "Epoch 24/100\n",
      "25/25 [==============================] - 0s 810us/step - loss: 0.0293 - accuracy: 0.9880\n",
      "Epoch 25/100\n",
      "25/25 [==============================] - 0s 715us/step - loss: 0.0275 - accuracy: 0.9900\n",
      "Epoch 26/100\n",
      "25/25 [==============================] - 0s 778us/step - loss: 0.0284 - accuracy: 0.9900\n",
      "Epoch 27/100\n",
      "25/25 [==============================] - 0s 793us/step - loss: 0.0292 - accuracy: 0.9880\n",
      "Epoch 28/100\n",
      "25/25 [==============================] - 0s 850us/step - loss: 0.0278 - accuracy: 0.9900\n",
      "Epoch 29/100\n",
      "25/25 [==============================] - 0s 743us/step - loss: 0.0280 - accuracy: 0.9900\n",
      "Epoch 30/100\n",
      "25/25 [==============================] - 0s 802us/step - loss: 0.0278 - accuracy: 0.9900\n",
      "Epoch 31/100\n",
      "25/25 [==============================] - 0s 812us/step - loss: 0.0276 - accuracy: 0.9900\n",
      "Epoch 32/100\n",
      "25/25 [==============================] - 0s 778us/step - loss: 0.0272 - accuracy: 0.9900\n",
      "Epoch 33/100\n",
      "25/25 [==============================] - 0s 752us/step - loss: 0.0274 - accuracy: 0.9900\n",
      "Epoch 34/100\n",
      "25/25 [==============================] - 0s 811us/step - loss: 0.0286 - accuracy: 0.9900\n",
      "Epoch 35/100\n",
      "25/25 [==============================] - 0s 849us/step - loss: 0.0283 - accuracy: 0.9880\n",
      "Epoch 36/100\n",
      "25/25 [==============================] - 0s 789us/step - loss: 0.0273 - accuracy: 0.9880\n",
      "Epoch 37/100\n",
      "25/25 [==============================] - 0s 815us/step - loss: 0.0261 - accuracy: 0.9900\n",
      "Epoch 38/100\n",
      "25/25 [==============================] - 0s 879us/step - loss: 0.0262 - accuracy: 0.9900\n",
      "Epoch 39/100\n",
      "25/25 [==============================] - 0s 844us/step - loss: 0.0302 - accuracy: 0.9900\n",
      "Epoch 40/100\n",
      "25/25 [==============================] - 0s 843us/step - loss: 0.0339 - accuracy: 0.9880\n",
      "Epoch 41/100\n",
      "25/25 [==============================] - 0s 947us/step - loss: 0.0263 - accuracy: 0.9880\n",
      "Epoch 42/100\n",
      "25/25 [==============================] - 0s 1ms/step - loss: 0.0259 - accuracy: 0.9900\n",
      "Epoch 43/100\n",
      "25/25 [==============================] - 0s 1ms/step - loss: 0.0253 - accuracy: 0.9900\n",
      "Epoch 44/100\n",
      "25/25 [==============================] - 0s 1ms/step - loss: 0.0261 - accuracy: 0.9920\n",
      "Epoch 45/100\n",
      "25/25 [==============================] - 0s 1ms/step - loss: 0.0277 - accuracy: 0.9880\n",
      "Epoch 46/100\n",
      "25/25 [==============================] - 0s 1ms/step - loss: 0.0266 - accuracy: 0.9900\n",
      "Epoch 47/100\n",
      "25/25 [==============================] - 0s 853us/step - loss: 0.0268 - accuracy: 0.9900\n",
      "Epoch 48/100\n",
      "25/25 [==============================] - 0s 880us/step - loss: 0.0269 - accuracy: 0.9900\n",
      "Epoch 49/100\n",
      "25/25 [==============================] - 0s 1ms/step - loss: 0.0272 - accuracy: 0.9900\n",
      "Epoch 50/100\n",
      "25/25 [==============================] - 0s 1ms/step - loss: 0.0266 - accuracy: 0.9900\n",
      "Epoch 51/100\n",
      "25/25 [==============================] - 0s 785us/step - loss: 0.0253 - accuracy: 0.9920\n",
      "Epoch 52/100\n",
      "25/25 [==============================] - 0s 1ms/step - loss: 0.0259 - accuracy: 0.9900\n",
      "Epoch 53/100\n",
      "25/25 [==============================] - 0s 728us/step - loss: 0.0252 - accuracy: 0.9880\n",
      "Epoch 54/100\n",
      "25/25 [==============================] - 0s 806us/step - loss: 0.0278 - accuracy: 0.9900\n",
      "Epoch 55/100\n",
      "25/25 [==============================] - 0s 634us/step - loss: 0.0248 - accuracy: 0.9940\n",
      "Epoch 56/100\n",
      "25/25 [==============================] - 0s 585us/step - loss: 0.0258 - accuracy: 0.9900\n",
      "Epoch 57/100\n",
      "25/25 [==============================] - 0s 788us/step - loss: 0.0268 - accuracy: 0.9900\n",
      "Epoch 58/100\n",
      "25/25 [==============================] - 0s 748us/step - loss: 0.0293 - accuracy: 0.9900\n",
      "Epoch 59/100\n",
      "25/25 [==============================] - 0s 737us/step - loss: 0.0260 - accuracy: 0.9900\n",
      "Epoch 60/100\n",
      "25/25 [==============================] - 0s 828us/step - loss: 0.0301 - accuracy: 0.9900\n",
      "Epoch 61/100\n",
      "25/25 [==============================] - 0s 1ms/step - loss: 0.0283 - accuracy: 0.9900\n",
      "Epoch 62/100\n",
      "25/25 [==============================] - 0s 1ms/step - loss: 0.0269 - accuracy: 0.9900\n",
      "Epoch 63/100\n",
      "25/25 [==============================] - 0s 1ms/step - loss: 0.0247 - accuracy: 0.9920\n",
      "Epoch 64/100\n",
      "25/25 [==============================] - 0s 1ms/step - loss: 0.0251 - accuracy: 0.9880\n",
      "Epoch 65/100\n",
      "25/25 [==============================] - 0s 951us/step - loss: 0.0255 - accuracy: 0.9900\n",
      "Epoch 66/100\n",
      "25/25 [==============================] - 0s 901us/step - loss: 0.0281 - accuracy: 0.9880\n",
      "Epoch 67/100\n",
      "25/25 [==============================] - 0s 1ms/step - loss: 0.0260 - accuracy: 0.9900\n",
      "Epoch 68/100\n",
      "25/25 [==============================] - 0s 507us/step - loss: 0.0252 - accuracy: 0.9900\n",
      "Epoch 69/100\n",
      "25/25 [==============================] - 0s 1ms/step - loss: 0.0254 - accuracy: 0.9900\n",
      "Epoch 70/100\n",
      "25/25 [==============================] - 0s 567us/step - loss: 0.0289 - accuracy: 0.9900\n",
      "Epoch 71/100\n",
      "25/25 [==============================] - 0s 848us/step - loss: 0.0261 - accuracy: 0.9900\n",
      "Epoch 72/100\n",
      "25/25 [==============================] - 0s 862us/step - loss: 0.0251 - accuracy: 0.9900\n",
      "Epoch 73/100\n",
      "25/25 [==============================] - 0s 916us/step - loss: 0.0254 - accuracy: 0.9920\n",
      "Epoch 74/100\n",
      "25/25 [==============================] - 0s 1ms/step - loss: 0.0246 - accuracy: 0.9900\n",
      "Epoch 75/100\n",
      "25/25 [==============================] - 0s 749us/step - loss: 0.0275 - accuracy: 0.9880\n",
      "Epoch 76/100\n",
      "25/25 [==============================] - 0s 830us/step - loss: 0.0250 - accuracy: 0.9900\n",
      "Epoch 77/100\n",
      "25/25 [==============================] - 0s 859us/step - loss: 0.0246 - accuracy: 0.9920\n",
      "Epoch 78/100\n",
      "25/25 [==============================] - 0s 611us/step - loss: 0.0249 - accuracy: 0.9900\n",
      "Epoch 79/100\n",
      "25/25 [==============================] - 0s 528us/step - loss: 0.0250 - accuracy: 0.9900\n",
      "Epoch 80/100\n",
      "25/25 [==============================] - 0s 1ms/step - loss: 0.0260 - accuracy: 0.9880\n",
      "Epoch 81/100\n",
      "25/25 [==============================] - 0s 716us/step - loss: 0.0276 - accuracy: 0.9880\n",
      "Epoch 82/100\n",
      "25/25 [==============================] - 0s 871us/step - loss: 0.0255 - accuracy: 0.9900\n",
      "Epoch 83/100\n",
      "25/25 [==============================] - 0s 838us/step - loss: 0.0261 - accuracy: 0.9920\n",
      "Epoch 84/100\n",
      "25/25 [==============================] - 0s 1ms/step - loss: 0.0258 - accuracy: 0.9920\n",
      "Epoch 85/100\n",
      "25/25 [==============================] - 0s 1ms/step - loss: 0.0258 - accuracy: 0.9900\n",
      "Epoch 86/100\n",
      "25/25 [==============================] - 0s 877us/step - loss: 0.0269 - accuracy: 0.9900\n",
      "Epoch 87/100\n",
      "25/25 [==============================] - 0s 591us/step - loss: 0.0277 - accuracy: 0.9900\n",
      "Epoch 88/100\n",
      "25/25 [==============================] - 0s 714us/step - loss: 0.0263 - accuracy: 0.9920\n",
      "Epoch 89/100\n",
      "25/25 [==============================] - 0s 654us/step - loss: 0.0245 - accuracy: 0.9900\n",
      "Epoch 90/100\n",
      "25/25 [==============================] - 0s 637us/step - loss: 0.0265 - accuracy: 0.9920\n",
      "Epoch 91/100\n",
      "25/25 [==============================] - 0s 872us/step - loss: 0.0225 - accuracy: 0.9940\n",
      "Epoch 92/100\n",
      "25/25 [==============================] - 0s 803us/step - loss: 0.0290 - accuracy: 0.9900\n",
      "Epoch 93/100\n",
      "25/25 [==============================] - 0s 655us/step - loss: 0.0313 - accuracy: 0.9880\n",
      "Epoch 94/100\n",
      "25/25 [==============================] - 0s 680us/step - loss: 0.0242 - accuracy: 0.9880\n",
      "Epoch 95/100\n",
      "25/25 [==============================] - 0s 823us/step - loss: 0.0251 - accuracy: 0.9920\n",
      "Epoch 96/100\n",
      "25/25 [==============================] - 0s 867us/step - loss: 0.0273 - accuracy: 0.9900\n",
      "Epoch 97/100\n",
      "25/25 [==============================] - 0s 826us/step - loss: 0.0240 - accuracy: 0.9920\n",
      "Epoch 98/100\n",
      "25/25 [==============================] - 0s 581us/step - loss: 0.0262 - accuracy: 0.9920\n",
      "Epoch 99/100\n",
      "25/25 [==============================] - 0s 620us/step - loss: 0.0266 - accuracy: 0.9900\n",
      "Epoch 100/100\n",
      "25/25 [==============================] - 0s 908us/step - loss: 0.0269 - accuracy: 0.9900\n"
     ]
    }
   ],
   "source": [
    "#one hot encode output\n",
    "h = model.fit(x=X,y=y_cat,verbose = 1, batch_size = 20, epochs = 100, shuffle = 'true')"
   ]
  },
  {
   "cell_type": "code",
   "execution_count": 156,
   "id": "29e97958-1d4b-48f1-8fde-b9652e0516ad",
   "metadata": {},
   "outputs": [],
   "source": [
    "def plot_multiclass_decision_boundary(X, y_cat, model):\n",
    "    x_span = np.linspace(min(X[:,0]) - 1, max(X[:,0]) + 1, 50)\n",
    "    y_span = np.linspace(min(X[:,1]) - 1, max(X[:,1]) + 1, 50)\n",
    "    xx, yy = np.meshgrid(x_span, y_span)\n",
    "    xx_,yy_ = xx.ravel(),yy.ravel()\n",
    "    grid = np.c_[xx_, yy_]\n",
    "    #pred_func = model.predict_classes(grid) This is removed from latest version of TensorFlow\n",
    "    pred_func = np.argmax(model.predict(grid), axis=-1)    \n",
    "    z = pred_func.reshape(xx.shape)\n",
    "    plt.contourf(xx, yy, z)"
   ]
  },
  {
   "cell_type": "code",
   "execution_count": 157,
   "id": "85455197-bbf0-43f1-8f34-84c76c8f345d",
   "metadata": {},
   "outputs": [
    {
     "data": {
      "text/plain": [
       "<matplotlib.collections.PathCollection at 0x234d97be430>"
      ]
     },
     "execution_count": 157,
     "metadata": {},
     "output_type": "execute_result"
    },
    {
     "data": {
      "image/png": "[encoded data removed]",
      "text/plain": [
       "<Figure size 432x288 with 1 Axes>"
      ]
     },
     "metadata": {
      "needs_background": "light"
     },
     "output_type": "display_data"
    }
   ],
   "source": [
    "plot_multiclass_decision_boundary(X, y_cat, model)\n",
    "plt.scatter(X[y==0, 0], X[y==0, 1])\n",
    "plt.scatter(X[y==1, 0], X[y==1, 1])\n",
    "plt.scatter(X[y==2, 0], X[y==2, 1])"
   ]
  },
  {
   "cell_type": "code",
   "execution_count": 158,
   "id": "f10665fc-53fe-40ce-ad6f-ea1fa387ed43",
   "metadata": {},
   "outputs": [
    {
     "name": "stdout",
     "output_type": "stream",
     "text": [
      "Prediction is:  [2]\n"
     ]
    },
    {
     "data": {
      "image/png": "[encoded data removed]",
      "text/plain": [
       "<Figure size 432x288 with 1 Axes>"
      ]
     },
     "metadata": {
      "needs_background": "light"
     },
     "output_type": "display_data"
    }
   ],
   "source": [
    "plot_multiclass_decision_boundary(X, y_cat, model)\n",
    "plt.scatter(X[y==0, 0], X[y==0, 1])\n",
    "plt.scatter(X[y==1, 0], X[y==1, 1])\n",
    "plt.scatter(X[y==2, 0], X[y==2, 1])\n",
    "x = 0.5\n",
    "y = -1\n",
    "point = np.array([[x, y]])\n",
    "prediction = np.argmax(model.predict(point), axis=-1)\n",
    "plt.plot([x], [y], marker='o', markersize=10, color=\"red\")\n",
    "print(\"Prediction is: \", prediction)"
   ]
  },
  {
   "cell_type": "code",
   "execution_count": null,
   "id": "43405448-73b7-4edd-b479-f9c43bf2d204",
   "metadata": {},
   "outputs": [],
   "source": []
  }
 ],
 "metadata": {
  "kernelspec": {
   "display_name": "Python 3 (ipykernel)",
   "language": "python",
   "name": "python3"
  },
  "language_info": {
   "codemirror_mode": {
    "name": "ipython",
    "version": 3
   },
   "file_extension": ".py",
   "mimetype": "text/x-python",
   "name": "python",
   "nbconvert_exporter": "python",
   "pygments_lexer": "ipython3",
   "version": "3.9.7"
  }
 },
 "nbformat": 4,
 "nbformat_minor": 5
}
